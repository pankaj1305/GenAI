# Install necessary libraries
!pip install SpeechRecognition googletrans==4.0.0-rc1 gTTS

import speech_recognition as sr
from googletrans import Translator
from gtts import gTTS
from IPython.display import Audio
from google.colab import files

# Define supported languages
input_languages = {
    "1": ("en", "English"),
    "2": ("hi", "Hindi"),
    "3": ("es", "Spanish"),
    "4": ("fr", "French"),
    "5": ("de", "German")
}

output_languages = {
    "1": ("en", "English"),
    "2": ("hi", "Hindi"),
    "3": ("es", "Spanish"),
    "4": ("fr", "French"),
    "5": ("de", "German")
}

# Choose input language
print("Select Input Language:")
for key, value in input_languages.items():
    print(f"{key}. {value[1]}")
input_choice = input("Enter choice: ").strip()
input_lang_code = input_languages[input_choice][0]

# Choose output language
print("\nSelect Output Language:")
for key, value in output_languages.items():
    print(f"{key}. {value[1]}")
output_choice = input("Enter choice: ").strip()
output_lang_code = output_languages[output_choice][0]

# Upload audio file
print("\nPlease upload your voice file (WAV or MP3):")
uploaded = files.upload()
audio_filename = list(uploaded.keys())[0]

# Initialize recognizer & translator
recognizer = sr.Recognizer()
translator = Translator()

# Recognize speech from uploaded file
with sr.AudioFile(audio_filename) as source:
    audio_data = recognizer.record(source)

try:
    # Speech to text
    text = recognizer.recognize_google(audio_data, language=input_lang_code)
    print(f"\nOriginal ({input_languages[input_choice][1]}):", text)

    # Translate text
    translated = translator.translate(text, src=input_lang_code, dest=output_lang_code)
    print(f"Translated ({output_languages[output_choice][1]}):", translated.text)

    # Text to speech
    tts = gTTS(text=translated.text, lang=output_lang_code)
    output_file = "translated_audio.mp3"
    tts.save(output_file)

    # Play in Colab
    display(Audio(output_file))

except Exception as e:
    print("Error:", e)
