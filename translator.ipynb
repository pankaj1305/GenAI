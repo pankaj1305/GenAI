
!pip install SpeechRecognition googletrans==4.0.0-rc1 gTTS

import speech_recognition as sr
from googletrans import Translator
from gtts import gTTS
from IPython.display import Audio
from google.colab import files


input_languages = {
    "1": ("en", "English"),
    "2": ("hi", "Hindi"),
    "3": ("es", "Spanish"),
    "4": ("fr", "French"),
    "5": ("de", "German")
}

output_languages = {
    "1": ("en", "English"),
    "2": ("hi", "Hindi"),
    "3": ("es", "Spanish"),
    "4": ("fr", "French"),
    "5": ("de", "German")
}


print("Select Input Language:")
for key, value in input_languages.items():
    print(f"{key}. {value[1]}")
input_choice = input("Enter choice: ").strip()
input_lang_code = input_languages[input_choice][0]

# Choose output language
print("\nSelect Output Language:")
for key, value in output_languages.items():
    print(f"{key}. {value[1]}")
output_choice = input("Enter choice: ").strip()
output_lang_code = output_languages[output_choice][0]


print("\nPlease upload your voice file (WAV or MP3):")
uploaded = files.upload()
audio_filename = list(uploaded.keys())[0]


recognizer = sr.Recognizer()
translator = Translator()


with sr.AudioFile(audio_filename) as source:
    audio_data = recognizer.record(source)

try:
 
    text = recognizer.recognize_google(audio_data, language=input_lang_code)
    print(f"\nOriginal ({input_languages[input_choice][1]}):", text)

    
    translated = translator.translate(text, src=input_lang_code, dest=output_lang_code)
    print(f"Translated ({output_languages[output_choice][1]}):", translated.text)

    
    tts = gTTS(text=translated.text, lang=output_lang_code)
    output_file = "translated_audio.mp3"
    tts.save(output_file)

   
    display(Audio(output_file))

except Exception as e:
    print("Error:", e)
